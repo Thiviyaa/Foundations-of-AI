{
  "nbformat": 4,
  "nbformat_minor": 0,
  "metadata": {
    "colab": {
      "name": "28-11-2021_Thiviyaa S_NasscomAIFC_Project_30_Question_Copy_v1.ipynb",
      "provenance": [],
      "collapsed_sections": [],
      "include_colab_link": true
    },
    "kernelspec": {
      "name": "python3",
      "display_name": "Python 3"
    }
  },
  "cells": [
    {
      "cell_type": "markdown",
      "metadata": {
        "id": "view-in-github",
        "colab_type": "text"
      },
      "source": [
        "<a href=\"https://colab.research.google.com/github/Thiviyaa/Foundations-of-AI/blob/main/28_11_2021_Thiviyaa_S_NasscomAIFC_Project_30_Question_Copy_v1.ipynb\" target=\"_parent\"><img src=\"https://colab.research.google.com/assets/colab-badge.svg\" alt=\"Open In Colab\"/></a>"
      ]
    },
    {
      "cell_type": "markdown",
      "metadata": {
        "id": "YZnBY81YDCCr"
      },
      "source": [
        "### Instructions"
      ]
    },
    {
      "cell_type": "markdown",
      "metadata": {
        "id": "fIKnY8occu37"
      },
      "source": [
        "#### Goal of the Project\n",
        "\n",
        "This project is designed for you to practice and solve the activities that are based on the concepts covered in the following lesson:\n",
        "\n",
        "1. Python Tuples II\n",
        "\n",
        "\n",
        "\n"
      ]
    },
    {
      "cell_type": "markdown",
      "metadata": {
        "id": "BBqkpH4_Doqe"
      },
      "source": [
        "---"
      ]
    },
    {
      "cell_type": "markdown",
      "metadata": {
        "id": "yrd3ECOnvYbf"
      },
      "source": [
        "#### Getting Started\n",
        "\n",
        "Follow the steps described below to solve the project:\n",
        "\n",
        "1. Click on the link provided below to open the Colab file for this project.\n",
        "   \n",
        "   https://colab.research.google.com/drive/12YFbNKxm5qI-UXP9ge25-kEolFoeKo_i\n",
        "   \n",
        "2. Create the duplicate copy of the Colab file. Here are the steps to create the duplicate copy:\n",
        "\n",
        "    - Click on the **File** menu. A new drop-down list will appear.\n",
        "\n",
        "      <img src='https://student-datasets-bucket.s3.ap-south-1.amazonaws.com/images/project-share-images/0_file_menu.png' width=500>\n",
        "\n",
        "    - Click on the **Save a copy in Drive** option. A duplicate copy will get created. It will open up in the new tab on your web browser.\n",
        "\n",
        "      <img src='https://student-datasets-bucket.s3.ap-south-1.amazonaws.com/images/project-share-images/1_create_colab_duplicate_copy.png' width=500>\n",
        "\n",
        "     - After creating the duplicate copy of the notebook, please rename it in the **YYYY-MM-DD_StudentName_Project34** format. \n",
        "\n",
        "3. Now, write your code in the prescribed code cells."
      ]
    },
    {
      "cell_type": "markdown",
      "metadata": {
        "id": "nzgd8BKvvXWA"
      },
      "source": [
        "---"
      ]
    },
    {
      "cell_type": "markdown",
      "metadata": {
        "id": "H0P9F3DUf8x2"
      },
      "source": [
        "### Activities\n",
        "\n",
        "\n",
        "  "
      ]
    },
    {
      "cell_type": "markdown",
      "metadata": {
        "id": "BVT9G_baB1aq"
      },
      "source": [
        "#### Activity 1: Changing Tuple Items\n",
        "\n",
        "Given a few random names stored in the `names_tup` tuple, write a code to remove `raj` from the `names_tup` tuple and then print the tuple after reversing the order of names stored in the `names_tup` tuple.\n",
        "\n",
        "`names_tup = ('kevin', 'kamal', 'raj', 'prashant', 'albert', 'daniel', 'rahul')`"
      ]
    },
    {
      "cell_type": "code",
      "metadata": {
        "id": "0pIGxKG9B3mb",
        "colab": {
          "base_uri": "https://localhost:8080/"
        },
        "outputId": "63c011a7-eaf9-4876-c21d-7d18aa292184"
      },
      "source": [
        "# Tuple of random names.\n",
        "names_tup = ('kevin', 'kamal', 'raj', 'prashant', 'albert', 'daniel', 'rahul')\n",
        "\n",
        "# Print the contents of the 'names_tup' tuple.\n",
        "print(names_tup)\n",
        "# Convert the tuple into a list by passing the 'names_tup' tuple inside the 'list()' function.\n",
        "# store it in another variable 'names_lst'.\n",
        "names_lst = list(names_tup)\n",
        "# Remove 'raj' from the 'names_lst' list using the 'remove()' function.\n",
        "names_lst.remove(\"raj\")\n",
        "# Convert the list into a tuple by using the 'tuple()' function.\n",
        "names_tup = tuple(names_lst)\n",
        "# Print the items of the tuple after reversing their order.\n",
        "print(names_tup)"
      ],
      "execution_count": null,
      "outputs": [
        {
          "output_type": "stream",
          "name": "stdout",
          "text": [
            "('kevin', 'kamal', 'raj', 'prashant', 'albert', 'daniel', 'rahul')\n",
            "('kevin', 'kamal', 'prashant', 'albert', 'daniel', 'rahul')\n"
          ]
        }
      ]
    },
    {
      "cell_type": "markdown",
      "metadata": {
        "id": "sjopsg2KPDU_"
      },
      "source": [
        "As we cannot change the contents of a tuple, first we need to convert the tuple into a list, then change the contents of the list and finally change the list back into a tuple.\n",
        "\n"
      ]
    },
    {
      "cell_type": "markdown",
      "metadata": {
        "id": "IJIZASayCpEW"
      },
      "source": [
        "---"
      ]
    },
    {
      "cell_type": "markdown",
      "metadata": {
        "id": "5kBinzKxn3hd"
      },
      "source": [
        "#### Activity 2: Adding Labels to Tuples\n",
        "\n",
        "Given a few random numbers stored in the `rand_num` tuple, write a code to sort the values in descending order and add labels to the values in the tuple."
      ]
    },
    {
      "cell_type": "code",
      "metadata": {
        "id": "4gjDvOhzn6TL",
        "colab": {
          "base_uri": "https://localhost:8080/"
        },
        "outputId": "b21e3bef-45e2-4a66-d7b7-c7381ac75767"
      },
      "source": [
        "# Tuple containing 30 random integers ranging between 100 and 250.\n",
        "import random\n",
        "\n",
        "rand_num = tuple([random.randint(100, 250) for i in range(31)])\n",
        "rand_num"
      ],
      "execution_count": null,
      "outputs": [
        {
          "output_type": "execute_result",
          "data": {
            "text/plain": [
              "(197,\n",
              " 123,\n",
              " 213,\n",
              " 102,\n",
              " 143,\n",
              " 237,\n",
              " 131,\n",
              " 143,\n",
              " 176,\n",
              " 226,\n",
              " 166,\n",
              " 209,\n",
              " 159,\n",
              " 165,\n",
              " 158,\n",
              " 102,\n",
              " 106,\n",
              " 123,\n",
              " 230,\n",
              " 119,\n",
              " 190,\n",
              " 179,\n",
              " 190,\n",
              " 204,\n",
              " 244,\n",
              " 114,\n",
              " 128,\n",
              " 189,\n",
              " 163,\n",
              " 237,\n",
              " 239)"
            ]
          },
          "metadata": {},
          "execution_count": 2
        }
      ]
    },
    {
      "cell_type": "code",
      "metadata": {
        "id": "uA85A_STQ9Xa",
        "colab": {
          "base_uri": "https://localhost:8080/"
        },
        "outputId": "6f057366-1666-494a-a71c-3eeb111e54c1"
      },
      "source": [
        "# Display the items of the 'rand_num' tuple in the descending order using the 'sorted()' function.\n",
        "sorted(rand_num, reverse=True)\n"
      ],
      "execution_count": null,
      "outputs": [
        {
          "output_type": "execute_result",
          "data": {
            "text/plain": [
              "[244,\n",
              " 239,\n",
              " 237,\n",
              " 237,\n",
              " 230,\n",
              " 226,\n",
              " 213,\n",
              " 209,\n",
              " 204,\n",
              " 197,\n",
              " 190,\n",
              " 190,\n",
              " 189,\n",
              " 179,\n",
              " 176,\n",
              " 166,\n",
              " 165,\n",
              " 163,\n",
              " 159,\n",
              " 158,\n",
              " 143,\n",
              " 143,\n",
              " 131,\n",
              " 128,\n",
              " 123,\n",
              " 123,\n",
              " 119,\n",
              " 114,\n",
              " 106,\n",
              " 102,\n",
              " 102]"
            ]
          },
          "metadata": {},
          "execution_count": 3
        }
      ]
    },
    {
      "cell_type": "code",
      "metadata": {
        "id": "JPbXsLnAR6sw",
        "colab": {
          "base_uri": "https://localhost:8080/"
        },
        "outputId": "0d774825-486b-4cc5-ccf5-58c07212724c"
      },
      "source": [
        "# Add Labels to the 'rand_num' tuple. \n",
        "# Apply the 'tuple()' function on top of the 'enumerate()' function to add labels.\n",
        "rand_num_tup = tuple(enumerate(rand_num))\n",
        "rand_num_tup"
      ],
      "execution_count": null,
      "outputs": [
        {
          "output_type": "execute_result",
          "data": {
            "text/plain": [
              "((0, 197),\n",
              " (1, 123),\n",
              " (2, 213),\n",
              " (3, 102),\n",
              " (4, 143),\n",
              " (5, 237),\n",
              " (6, 131),\n",
              " (7, 143),\n",
              " (8, 176),\n",
              " (9, 226),\n",
              " (10, 166),\n",
              " (11, 209),\n",
              " (12, 159),\n",
              " (13, 165),\n",
              " (14, 158),\n",
              " (15, 102),\n",
              " (16, 106),\n",
              " (17, 123),\n",
              " (18, 230),\n",
              " (19, 119),\n",
              " (20, 190),\n",
              " (21, 179),\n",
              " (22, 190),\n",
              " (23, 204),\n",
              " (24, 244),\n",
              " (25, 114),\n",
              " (26, 128),\n",
              " (27, 189),\n",
              " (28, 163),\n",
              " (29, 237),\n",
              " (30, 239))"
            ]
          },
          "metadata": {},
          "execution_count": 7
        }
      ]
    },
    {
      "cell_type": "markdown",
      "metadata": {
        "id": "MWkPEALQn-lN"
      },
      "source": [
        "---"
      ]
    },
    {
      "cell_type": "markdown",
      "metadata": {
        "id": "u5uAhTz3vu6w"
      },
      "source": [
        "### Submitting the Project\n",
        "\n",
        "Follow the steps described below to submit the project.\n",
        "\n",
        "1. After finishing the project, click on the **Share** button on the top right corner of the notebook. A new dialog box will appear.\n",
        "\n",
        "  <img src='https://student-datasets-bucket.s3.ap-south-1.amazonaws.com/images/project-share-images/2_share_button.png' width=500>\n",
        "\n",
        "2. In the dialog box, click on the **Copy link** button.\n",
        "\n",
        "   <img src='https://student-datasets-bucket.s3.ap-south-1.amazonaws.com/images/project-share-images/3_copy_link.png' width=500>\n",
        "\n",
        "\n",
        "3. The link of the duplicate copy (named as **YYYY-MM-DD_StudentName_Project34**) of the notebook will get copied \n",
        "\n",
        "   <img src='https://student-datasets-bucket.s3.ap-south-1.amazonaws.com/images/project-share-images/4_copy_link_confirmation.png' width=500>\n",
        "\n",
        "4. Go to your dashboard and click on the **My Projects** option.\n",
        "\n",
        "   <img src='https://student-datasets-bucket.s3.ap-south-1.amazonaws.com/images/project-share-images/5_student_dashboard.png' width=800>\n",
        "\n",
        "   <img src='https://student-datasets-bucket.s3.ap-south-1.amazonaws.com/images/project-share-images/6_my_projects.png' width=800>\n",
        "\n",
        "5. Click on the **View Project** button for the project you want to submit.\n",
        "\n",
        "   <img src='https://student-datasets-bucket.s3.ap-south-1.amazonaws.com/images/project-share-images/7_view_project.png' width=800>\n",
        "\n",
        "6. Click on the **Submit Project Here** button.\n",
        "\n",
        "   <img src='https://student-datasets-bucket.s3.ap-south-1.amazonaws.com/images/project-share-images/8_submit_project.png' width=800>\n",
        "\n",
        "7. Paste the link to the project file named as **YYYY-MM-DD_StudentName_Project34** in the URL box and then click on the **Submit** button.\n",
        "\n",
        "   <img src='https://student-datasets-bucket.s3.ap-south-1.amazonaws.com/images/project-share-images/9_enter_project_url.png' width=800>\n"
      ]
    },
    {
      "cell_type": "markdown",
      "metadata": {
        "id": "RE724iLPvtei"
      },
      "source": [
        "---"
      ]
    }
  ]
}